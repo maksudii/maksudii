{
 "cells": [
  {
   "cell_type": "code",
   "execution_count": 1,
   "id": "9d23d8ac",
   "metadata": {},
   "outputs": [],
   "source": [
    "import numpy as np\n",
    "import pandas as pd\n",
    "import seaborn as sns\n",
    "import matplotlib.pyplot as plt\n",
    "from apyori import apriori"
   ]
  },
  {
   "cell_type": "code",
   "execution_count": 2,
   "id": "8bd445de",
   "metadata": {},
   "outputs": [],
   "source": [
    "df = pd.read_csv(\"groceries.csv\")\n"
   ]
  },
  {
   "cell_type": "code",
   "execution_count": 3,
   "id": "23e68c0e",
   "metadata": {},
   "outputs": [
    {
     "data": {
      "text/html": [
       "<div>\n",
       "<style scoped>\n",
       "    .dataframe tbody tr th:only-of-type {\n",
       "        vertical-align: middle;\n",
       "    }\n",
       "\n",
       "    .dataframe tbody tr th {\n",
       "        vertical-align: top;\n",
       "    }\n",
       "\n",
       "    .dataframe thead th {\n",
       "        text-align: right;\n",
       "    }\n",
       "</style>\n",
       "<table border=\"1\" class=\"dataframe\">\n",
       "  <thead>\n",
       "    <tr style=\"text-align: right;\">\n",
       "      <th></th>\n",
       "      <th>Member_number</th>\n",
       "      <th>Date</th>\n",
       "      <th>itemDescription</th>\n",
       "    </tr>\n",
       "  </thead>\n",
       "  <tbody>\n",
       "    <tr>\n",
       "      <th>0</th>\n",
       "      <td>1619052826499</td>\n",
       "      <td>10/22/2012</td>\n",
       "      <td>citrus fruit</td>\n",
       "    </tr>\n",
       "    <tr>\n",
       "      <th>1</th>\n",
       "      <td>1679031673299</td>\n",
       "      <td>10/03/2010</td>\n",
       "      <td>tropical fruit</td>\n",
       "    </tr>\n",
       "    <tr>\n",
       "      <th>2</th>\n",
       "      <td>1634042851699</td>\n",
       "      <td>07/07/2011</td>\n",
       "      <td>whole milk</td>\n",
       "    </tr>\n",
       "    <tr>\n",
       "      <th>3</th>\n",
       "      <td>1656022021999</td>\n",
       "      <td>03/13/2010</td>\n",
       "      <td>pip fruit</td>\n",
       "    </tr>\n",
       "    <tr>\n",
       "      <th>4</th>\n",
       "      <td>1612011328599</td>\n",
       "      <td>09/07/2013</td>\n",
       "      <td>other vegetables</td>\n",
       "    </tr>\n",
       "  </tbody>\n",
       "</table>\n",
       "</div>"
      ],
      "text/plain": [
       "   Member_number        Date   itemDescription\n",
       "0  1619052826499  10/22/2012      citrus fruit\n",
       "1  1679031673299  10/03/2010    tropical fruit\n",
       "2  1634042851699  07/07/2011        whole milk\n",
       "3  1656022021999  03/13/2010         pip fruit\n",
       "4  1612011328599  09/07/2013  other vegetables"
      ]
     },
     "execution_count": 3,
     "metadata": {},
     "output_type": "execute_result"
    }
   ],
   "source": [
    "df.head()"
   ]
  },
  {
   "cell_type": "code",
   "execution_count": 4,
   "id": "f174d19d",
   "metadata": {},
   "outputs": [
    {
     "name": "stdout",
     "output_type": "stream",
     "text": [
      "<class 'pandas.core.frame.DataFrame'>\n",
      "RangeIndex: 260 entries, 0 to 259\n",
      "Data columns (total 3 columns):\n",
      " #   Column           Non-Null Count  Dtype \n",
      "---  ------           --------------  ----- \n",
      " 0   Member_number    260 non-null    int64 \n",
      " 1   Date             260 non-null    object\n",
      " 2   itemDescription  260 non-null    object\n",
      "dtypes: int64(1), object(2)\n",
      "memory usage: 6.2+ KB\n"
     ]
    }
   ],
   "source": [
    "df.info()"
   ]
  },
  {
   "cell_type": "code",
   "execution_count": 5,
   "id": "4b165930",
   "metadata": {},
   "outputs": [
    {
     "data": {
      "text/plain": [
       "Member_number      0\n",
       "Date               0\n",
       "itemDescription    0\n",
       "dtype: int64"
      ]
     },
     "execution_count": 5,
     "metadata": {},
     "output_type": "execute_result"
    }
   ],
   "source": [
    "df.isnull().sum().sort_values(ascending=False)"
   ]
  },
  {
   "cell_type": "code",
   "execution_count": 6,
   "id": "a701bb3c",
   "metadata": {},
   "outputs": [],
   "source": [
    "df['Date'] = pd.to_datetime(df['Date'])"
   ]
  },
  {
   "cell_type": "code",
   "execution_count": 7,
   "id": "919b98bb",
   "metadata": {},
   "outputs": [
    {
     "name": "stdout",
     "output_type": "stream",
     "text": [
      "<class 'pandas.core.frame.DataFrame'>\n",
      "RangeIndex: 260 entries, 0 to 259\n",
      "Data columns (total 3 columns):\n",
      " #   Column           Non-Null Count  Dtype         \n",
      "---  ------           --------------  -----         \n",
      " 0   Member_number    260 non-null    int64         \n",
      " 1   Date             260 non-null    datetime64[ns]\n",
      " 2   itemDescription  260 non-null    object        \n",
      "dtypes: datetime64[ns](1), int64(1), object(1)\n",
      "memory usage: 6.2+ KB\n"
     ]
    }
   ],
   "source": [
    "df.info()"
   ]
  },
  {
   "cell_type": "code",
   "execution_count": 8,
   "id": "01e0cf45",
   "metadata": {},
   "outputs": [],
   "source": [
    "Item_distr = df.groupby(by = \"itemDescription\").size().reset_index(name='Frequency').sort_values(by = 'Frequency',ascending=False).head(10)"
   ]
  },
  {
   "cell_type": "code",
   "execution_count": 9,
   "id": "a21d523d",
   "metadata": {},
   "outputs": [],
   "source": [
    "bars = Item_distr[\"itemDescription\"]\n",
    "height = Item_distr[\"Frequency\"]\n",
    "x_pos = np.arange(len(bars))"
   ]
  },
  {
   "cell_type": "code",
   "execution_count": 13,
   "id": "ed13d9f6",
   "metadata": {},
   "outputs": [
    {
     "data": {
      "image/png": "[encoded data removed]",
      "text/plain": [
       "<Figure size 1152x648 with 1 Axes>"
      ]
     },
     "metadata": {
      "needs_background": "light"
     },
     "output_type": "display_data"
    }
   ],
   "source": [
    "plt.figure(figsize=(16,9))\n",
    "\n",
    "plt.bar(x_pos, height, color=(0.3, 0.4, 0.6, 0.6))\n",
    "\n",
    "plt.title(\"Top 10 Sold Items\")\n",
    "plt.xlabel(\"Item Name\")\n",
    "plt.ylabel(\"Number of Quantity Sold\")\n",
    "\n",
    "plt.xticks(x_pos, bars)\n",
    "\n",
    "plt.show()"
   ]
  },
  {
   "cell_type": "code",
   "execution_count": 14,
   "id": "57633bb3",
   "metadata": {},
   "outputs": [],
   "source": [
    "df_date=df.set_index(['Date'])"
   ]
  },
  {
   "cell_type": "code",
   "execution_count": 15,
   "id": "ae07d91f",
   "metadata": {},
   "outputs": [
    {
     "data": {
      "text/html": [
       "<div>\n",
       "<style scoped>\n",
       "    .dataframe tbody tr th:only-of-type {\n",
       "        vertical-align: middle;\n",
       "    }\n",
       "\n",
       "    .dataframe tbody tr th {\n",
       "        vertical-align: top;\n",
       "    }\n",
       "\n",
       "    .dataframe thead th {\n",
       "        text-align: right;\n",
       "    }\n",
       "</style>\n",
       "<table border=\"1\" class=\"dataframe\">\n",
       "  <thead>\n",
       "    <tr style=\"text-align: right;\">\n",
       "      <th></th>\n",
       "      <th>Member_number</th>\n",
       "      <th>itemDescription</th>\n",
       "    </tr>\n",
       "    <tr>\n",
       "      <th>Date</th>\n",
       "      <th></th>\n",
       "      <th></th>\n",
       "    </tr>\n",
       "  </thead>\n",
       "  <tbody>\n",
       "    <tr>\n",
       "      <th>2012-10-22</th>\n",
       "      <td>1619052826499</td>\n",
       "      <td>citrus fruit</td>\n",
       "    </tr>\n",
       "    <tr>\n",
       "      <th>2010-10-03</th>\n",
       "      <td>1679031673299</td>\n",
       "      <td>tropical fruit</td>\n",
       "    </tr>\n",
       "    <tr>\n",
       "      <th>2011-07-07</th>\n",
       "      <td>1634042851699</td>\n",
       "      <td>whole milk</td>\n",
       "    </tr>\n",
       "    <tr>\n",
       "      <th>2010-03-13</th>\n",
       "      <td>1656022021999</td>\n",
       "      <td>pip fruit</td>\n",
       "    </tr>\n",
       "    <tr>\n",
       "      <th>2013-09-07</th>\n",
       "      <td>1612011328599</td>\n",
       "      <td>other vegetables</td>\n",
       "    </tr>\n",
       "    <tr>\n",
       "      <th>...</th>\n",
       "      <td>...</td>\n",
       "      <td>...</td>\n",
       "    </tr>\n",
       "    <tr>\n",
       "      <th>2010-08-19</th>\n",
       "      <td>1606041259699</td>\n",
       "      <td>ham</td>\n",
       "    </tr>\n",
       "    <tr>\n",
       "      <th>2014-02-11</th>\n",
       "      <td>1612020387199</td>\n",
       "      <td>other vegetables</td>\n",
       "    </tr>\n",
       "    <tr>\n",
       "      <th>2012-04-06</th>\n",
       "      <td>1648092066299</td>\n",
       "      <td>other vegetables</td>\n",
       "    </tr>\n",
       "    <tr>\n",
       "      <th>2013-02-13</th>\n",
       "      <td>1684032180399</td>\n",
       "      <td>soda</td>\n",
       "    </tr>\n",
       "    <tr>\n",
       "      <th>2010-11-11</th>\n",
       "      <td>1647080809499</td>\n",
       "      <td>herbs</td>\n",
       "    </tr>\n",
       "  </tbody>\n",
       "</table>\n",
       "<p>260 rows × 2 columns</p>\n",
       "</div>"
      ],
      "text/plain": [
       "            Member_number   itemDescription\n",
       "Date                                       \n",
       "2012-10-22  1619052826499      citrus fruit\n",
       "2010-10-03  1679031673299    tropical fruit\n",
       "2011-07-07  1634042851699        whole milk\n",
       "2010-03-13  1656022021999         pip fruit\n",
       "2013-09-07  1612011328599  other vegetables\n",
       "...                   ...               ...\n",
       "2010-08-19  1606041259699               ham\n",
       "2014-02-11  1612020387199  other vegetables\n",
       "2012-04-06  1648092066299  other vegetables\n",
       "2013-02-13  1684032180399              soda\n",
       "2010-11-11  1647080809499             herbs\n",
       "\n",
       "[260 rows x 2 columns]"
      ]
     },
     "execution_count": 15,
     "metadata": {},
     "output_type": "execute_result"
    }
   ],
   "source": [
    "df_date"
   ]
  },
  {
   "cell_type": "code",
   "execution_count": 16,
   "id": "95e580a6",
   "metadata": {},
   "outputs": [
    {
     "data": {
      "text/plain": [
       "[Text(0.5, 0, 'Date'), Text(0, 0.5, 'Number of Items Sold')]"
      ]
     },
     "execution_count": 16,
     "metadata": {},
     "output_type": "execute_result"
    },
    {
     "data": {
      "image/png": "[encoded data removed]",
      "text/plain": [
       "<Figure size 1440x576 with 1 Axes>"
      ]
     },
     "metadata": {
      "needs_background": "light"
     },
     "output_type": "display_data"
    }
   ],
   "source": [
    "df_date.resample(\"M\")['itemDescription'].count().plot(figsize = (20,8), grid = True, title = \"Number by Items Sold by Month\").set(xlabel = \"Date\", ylabel = \"Number of Items Sold\")\n"
   ]
  },
  {
   "cell_type": "code",
   "execution_count": 17,
   "id": "5a86b7e2",
   "metadata": {},
   "outputs": [
    {
     "data": {
      "text/html": [
       "<div>\n",
       "<style scoped>\n",
       "    .dataframe tbody tr th:only-of-type {\n",
       "        vertical-align: middle;\n",
       "    }\n",
       "\n",
       "    .dataframe tbody tr th {\n",
       "        vertical-align: top;\n",
       "    }\n",
       "\n",
       "    .dataframe thead th {\n",
       "        text-align: right;\n",
       "    }\n",
       "</style>\n",
       "<table border=\"1\" class=\"dataframe\">\n",
       "  <thead>\n",
       "    <tr style=\"text-align: right;\">\n",
       "      <th></th>\n",
       "      <th>Member_number</th>\n",
       "      <th>itemDescription</th>\n",
       "    </tr>\n",
       "  </thead>\n",
       "  <tbody>\n",
       "    <tr>\n",
       "      <th>183</th>\n",
       "      <td>1699101035699</td>\n",
       "      <td>specialty bar</td>\n",
       "    </tr>\n",
       "    <tr>\n",
       "      <th>100</th>\n",
       "      <td>1698011240799</td>\n",
       "      <td>frankfurter</td>\n",
       "    </tr>\n",
       "    <tr>\n",
       "      <th>98</th>\n",
       "      <td>1697072644899</td>\n",
       "      <td>whole milk</td>\n",
       "    </tr>\n",
       "    <tr>\n",
       "      <th>74</th>\n",
       "      <td>1697062110699</td>\n",
       "      <td>baking powder</td>\n",
       "    </tr>\n",
       "    <tr>\n",
       "      <th>67</th>\n",
       "      <td>1696092655099</td>\n",
       "      <td>whipped/sour cream</td>\n",
       "    </tr>\n",
       "    <tr>\n",
       "      <th>...</th>\n",
       "      <td>...</td>\n",
       "      <td>...</td>\n",
       "    </tr>\n",
       "    <tr>\n",
       "      <th>207</th>\n",
       "      <td>1602022916699</td>\n",
       "      <td>sugar</td>\n",
       "    </tr>\n",
       "    <tr>\n",
       "      <th>222</th>\n",
       "      <td>1601120712199</td>\n",
       "      <td>bottled beer</td>\n",
       "    </tr>\n",
       "    <tr>\n",
       "      <th>159</th>\n",
       "      <td>1601010217699</td>\n",
       "      <td>chewing gum</td>\n",
       "    </tr>\n",
       "    <tr>\n",
       "      <th>254</th>\n",
       "      <td>1600122428599</td>\n",
       "      <td>shopping bags</td>\n",
       "    </tr>\n",
       "    <tr>\n",
       "      <th>189</th>\n",
       "      <td>1600031112799</td>\n",
       "      <td>newspapers</td>\n",
       "    </tr>\n",
       "  </tbody>\n",
       "</table>\n",
       "<p>260 rows × 2 columns</p>\n",
       "</div>"
      ],
      "text/plain": [
       "     Member_number     itemDescription\n",
       "183  1699101035699       specialty bar\n",
       "100  1698011240799         frankfurter\n",
       "98   1697072644899          whole milk\n",
       "74   1697062110699       baking powder\n",
       "67   1696092655099  whipped/sour cream\n",
       "..             ...                 ...\n",
       "207  1602022916699               sugar\n",
       "222  1601120712199        bottled beer\n",
       "159  1601010217699         chewing gum\n",
       "254  1600122428599       shopping bags\n",
       "189  1600031112799          newspapers\n",
       "\n",
       "[260 rows x 2 columns]"
      ]
     },
     "execution_count": 17,
     "metadata": {},
     "output_type": "execute_result"
    }
   ],
   "source": [
    "cust_level = df[[\"Member_number\", \"itemDescription\"]].sort_values(by = \"Member_number\", ascending = False)\n",
    "cust_level['itemDescription'] = cust_level['itemDescription'].str.strip() \n",
    "cust_level"
   ]
  },
  {
   "cell_type": "code",
   "execution_count": 18,
   "id": "da7d76ed",
   "metadata": {},
   "outputs": [],
   "source": [
    "transactions = [a[1]['itemDescription'].tolist() for a in list(cust_level.groupby(['Member_number']))]"
   ]
  },
  {
   "cell_type": "code",
   "execution_count": 20,
   "id": "cc6c48f6",
   "metadata": {},
   "outputs": [],
   "source": [
    "rules = apriori(transactions = transactions, min_support = 0.002, min_confidence = 0.05, min_lift = 3, min_length = 2, max_length = 2)\n",
    "results = list(rules)"
   ]
  },
  {
   "cell_type": "code",
   "execution_count": 21,
   "id": "a8ec5499",
   "metadata": {},
   "outputs": [
    {
     "data": {
      "text/plain": [
       "[RelationRecord(items=frozenset({'frozen potato products', 'bathroom cleaner'}), support=0.00510204081632653, ordered_statistics=[OrderedStatistic(items_base=frozenset({'bathroom cleaner'}), items_add=frozenset({'frozen potato products'}), confidence=1.0, lift=98.00000000000001), OrderedStatistic(items_base=frozenset({'frozen potato products'}), items_add=frozenset({'bathroom cleaner'}), confidence=0.5, lift=98.00000000000001)]),\n",
       " RelationRecord(items=frozenset({'liquor (appetizer)', 'bathroom cleaner'}), support=0.00510204081632653, ordered_statistics=[OrderedStatistic(items_base=frozenset({'bathroom cleaner'}), items_add=frozenset({'liquor (appetizer)'}), confidence=1.0, lift=196.00000000000003), OrderedStatistic(items_base=frozenset({'liquor (appetizer)'}), items_add=frozenset({'bathroom cleaner'}), confidence=1.0, lift=196.00000000000003)]),\n",
       " RelationRecord(items=frozenset({'citrus fruit', 'beef'}), support=0.00510204081632653, ordered_statistics=[OrderedStatistic(items_base=frozenset({'beef'}), items_add=frozenset({'citrus fruit'}), confidence=0.25, lift=6.125000000000001), OrderedStatistic(items_base=frozenset({'citrus fruit'}), items_add=frozenset({'beef'}), confidence=0.125, lift=6.125000000000001)]),\n",
       " RelationRecord(items=frozenset({'other vegetables', 'beef'}), support=0.00510204081632653, ordered_statistics=[OrderedStatistic(items_base=frozenset({'beef'}), items_add=frozenset({'other vegetables'}), confidence=0.25, lift=3.5), OrderedStatistic(items_base=frozenset({'other vegetables'}), items_add=frozenset({'beef'}), confidence=0.07142857142857142, lift=3.5)]),\n",
       " RelationRecord(items=frozenset({'rolls/buns', 'beef'}), support=0.00510204081632653, ordered_statistics=[OrderedStatistic(items_base=frozenset({'beef'}), items_add=frozenset({'rolls/buns'}), confidence=0.25, lift=3.2666666666666666), OrderedStatistic(items_base=frozenset({'rolls/buns'}), items_add=frozenset({'beef'}), confidence=0.06666666666666667, lift=3.266666666666667)]),\n",
       " RelationRecord(items=frozenset({'beef', 'tropical fruit'}), support=0.00510204081632653, ordered_statistics=[OrderedStatistic(items_base=frozenset({'beef'}), items_add=frozenset({'tropical fruit'}), confidence=0.25, lift=4.454545454545454), OrderedStatistic(items_base=frozenset({'tropical fruit'}), items_add=frozenset({'beef'}), confidence=0.0909090909090909, lift=4.454545454545454)]),\n",
       " RelationRecord(items=frozenset({'waffles', 'beef'}), support=0.00510204081632653, ordered_statistics=[OrderedStatistic(items_base=frozenset({'beef'}), items_add=frozenset({'waffles'}), confidence=0.25, lift=16.333333333333332), OrderedStatistic(items_base=frozenset({'waffles'}), items_add=frozenset({'beef'}), confidence=0.3333333333333333, lift=16.333333333333332)]),\n",
       " RelationRecord(items=frozenset({'chocolate', 'berries'}), support=0.00510204081632653, ordered_statistics=[OrderedStatistic(items_base=frozenset({'berries'}), items_add=frozenset({'chocolate'}), confidence=0.19999999999999998, lift=7.839999999999999), OrderedStatistic(items_base=frozenset({'chocolate'}), items_add=frozenset({'berries'}), confidence=0.19999999999999998, lift=7.839999999999999)]),\n",
       " RelationRecord(items=frozenset({'chocolate marshmallow', 'berries'}), support=0.00510204081632653, ordered_statistics=[OrderedStatistic(items_base=frozenset({'berries'}), items_add=frozenset({'chocolate marshmallow'}), confidence=0.19999999999999998, lift=39.2), OrderedStatistic(items_base=frozenset({'chocolate marshmallow'}), items_add=frozenset({'berries'}), confidence=1.0, lift=39.199999999999996)]),\n",
       " RelationRecord(items=frozenset({'detergent', 'berries'}), support=0.00510204081632653, ordered_statistics=[OrderedStatistic(items_base=frozenset({'berries'}), items_add=frozenset({'detergent'}), confidence=0.19999999999999998, lift=19.6), OrderedStatistic(items_base=frozenset({'detergent'}), items_add=frozenset({'berries'}), confidence=0.5, lift=19.599999999999998)]),\n",
       " RelationRecord(items=frozenset({'flour', 'berries'}), support=0.00510204081632653, ordered_statistics=[OrderedStatistic(items_base=frozenset({'berries'}), items_add=frozenset({'flour'}), confidence=0.19999999999999998, lift=39.2), OrderedStatistic(items_base=frozenset({'flour'}), items_add=frozenset({'berries'}), confidence=1.0, lift=39.199999999999996)]),\n",
       " RelationRecord(items=frozenset({'yogurt', 'berries'}), support=0.00510204081632653, ordered_statistics=[OrderedStatistic(items_base=frozenset({'berries'}), items_add=frozenset({'yogurt'}), confidence=0.19999999999999998, lift=13.066666666666666), OrderedStatistic(items_base=frozenset({'yogurt'}), items_add=frozenset({'berries'}), confidence=0.3333333333333333, lift=13.066666666666666)]),\n",
       " RelationRecord(items=frozenset({'curd cheese', 'bottled beer'}), support=0.00510204081632653, ordered_statistics=[OrderedStatistic(items_base=frozenset({'bottled beer'}), items_add=frozenset({'curd cheese'}), confidence=0.25, lift=24.500000000000004), OrderedStatistic(items_base=frozenset({'curd cheese'}), items_add=frozenset({'bottled beer'}), confidence=0.5, lift=24.500000000000004)]),\n",
       " RelationRecord(items=frozenset({'bottled beer', 'newspapers'}), support=0.00510204081632653, ordered_statistics=[OrderedStatistic(items_base=frozenset({'bottled beer'}), items_add=frozenset({'newspapers'}), confidence=0.25, lift=16.333333333333332), OrderedStatistic(items_base=frozenset({'newspapers'}), items_add=frozenset({'bottled beer'}), confidence=0.3333333333333333, lift=16.333333333333332)]),\n",
       " RelationRecord(items=frozenset({'packaged fruit/vegetables', 'bottled beer'}), support=0.00510204081632653, ordered_statistics=[OrderedStatistic(items_base=frozenset({'bottled beer'}), items_add=frozenset({'packaged fruit/vegetables'}), confidence=0.25, lift=12.250000000000002), OrderedStatistic(items_base=frozenset({'packaged fruit/vegetables'}), items_add=frozenset({'bottled beer'}), confidence=0.25, lift=12.250000000000002)]),\n",
       " RelationRecord(items=frozenset({'bottled beer', 'soda'}), support=0.00510204081632653, ordered_statistics=[OrderedStatistic(items_base=frozenset({'bottled beer'}), items_add=frozenset({'soda'}), confidence=0.25, lift=7.0), OrderedStatistic(items_base=frozenset({'soda'}), items_add=frozenset({'bottled beer'}), confidence=0.14285714285714285, lift=7.0)]),\n",
       " RelationRecord(items=frozenset({'bottled water', 'dishes'}), support=0.00510204081632653, ordered_statistics=[OrderedStatistic(items_base=frozenset({'bottled water'}), items_add=frozenset({'dishes'}), confidence=0.25, lift=49.00000000000001), OrderedStatistic(items_base=frozenset({'dishes'}), items_add=frozenset({'bottled water'}), confidence=1.0, lift=49.00000000000001)]),\n",
       " RelationRecord(items=frozenset({'bottled water', 'tropical fruit'}), support=0.00510204081632653, ordered_statistics=[OrderedStatistic(items_base=frozenset({'bottled water'}), items_add=frozenset({'tropical fruit'}), confidence=0.25, lift=4.454545454545454), OrderedStatistic(items_base=frozenset({'tropical fruit'}), items_add=frozenset({'bottled water'}), confidence=0.0909090909090909, lift=4.454545454545454)]),\n",
       " RelationRecord(items=frozenset({'brown bread', 'candy'}), support=0.00510204081632653, ordered_statistics=[OrderedStatistic(items_base=frozenset({'brown bread'}), items_add=frozenset({'candy'}), confidence=0.5, lift=98.00000000000001), OrderedStatistic(items_base=frozenset({'candy'}), items_add=frozenset({'brown bread'}), confidence=1.0, lift=98.00000000000001)]),\n",
       " RelationRecord(items=frozenset({'frozen meals', 'brown bread'}), support=0.00510204081632653, ordered_statistics=[OrderedStatistic(items_base=frozenset({'brown bread'}), items_add=frozenset({'frozen meals'}), confidence=0.5, lift=98.00000000000001), OrderedStatistic(items_base=frozenset({'frozen meals'}), items_add=frozenset({'brown bread'}), confidence=1.0, lift=98.00000000000001)]),\n",
       " RelationRecord(items=frozenset({'brown bread', 'oil'}), support=0.00510204081632653, ordered_statistics=[OrderedStatistic(items_base=frozenset({'brown bread'}), items_add=frozenset({'oil'}), confidence=0.5, lift=24.500000000000004), OrderedStatistic(items_base=frozenset({'oil'}), items_add=frozenset({'brown bread'}), confidence=0.25, lift=24.500000000000004)]),\n",
       " RelationRecord(items=frozenset({'brown bread', 'other vegetables'}), support=0.01020408163265306, ordered_statistics=[OrderedStatistic(items_base=frozenset({'brown bread'}), items_add=frozenset({'other vegetables'}), confidence=1.0, lift=14.0), OrderedStatistic(items_base=frozenset({'other vegetables'}), items_add=frozenset({'brown bread'}), confidence=0.14285714285714285, lift=14.0)]),\n",
       " RelationRecord(items=frozenset({'pork', 'brown bread'}), support=0.00510204081632653, ordered_statistics=[OrderedStatistic(items_base=frozenset({'brown bread'}), items_add=frozenset({'pork'}), confidence=0.5, lift=32.666666666666664), OrderedStatistic(items_base=frozenset({'pork'}), items_add=frozenset({'brown bread'}), confidence=0.3333333333333333, lift=32.666666666666664)]),\n",
       " RelationRecord(items=frozenset({'brown bread', 'rolls/buns'}), support=0.00510204081632653, ordered_statistics=[OrderedStatistic(items_base=frozenset({'brown bread'}), items_add=frozenset({'rolls/buns'}), confidence=0.5, lift=6.533333333333333), OrderedStatistic(items_base=frozenset({'rolls/buns'}), items_add=frozenset({'brown bread'}), confidence=0.06666666666666667, lift=6.533333333333334)]),\n",
       " RelationRecord(items=frozenset({'specialty bar', 'brown bread'}), support=0.00510204081632653, ordered_statistics=[OrderedStatistic(items_base=frozenset({'brown bread'}), items_add=frozenset({'specialty bar'}), confidence=0.5, lift=32.666666666666664), OrderedStatistic(items_base=frozenset({'specialty bar'}), items_add=frozenset({'brown bread'}), confidence=0.3333333333333333, lift=32.666666666666664)]),\n",
       " RelationRecord(items=frozenset({'brown bread', 'whole milk'}), support=0.00510204081632653, ordered_statistics=[OrderedStatistic(items_base=frozenset({'brown bread'}), items_add=frozenset({'whole milk'}), confidence=0.5, lift=4.8999999999999995)]),\n",
       " RelationRecord(items=frozenset({'butter', 'canned beer'}), support=0.00510204081632653, ordered_statistics=[OrderedStatistic(items_base=frozenset({'butter'}), items_add=frozenset({'canned beer'}), confidence=1.0, lift=32.666666666666664), OrderedStatistic(items_base=frozenset({'canned beer'}), items_add=frozenset({'butter'}), confidence=0.16666666666666666, lift=32.666666666666664)]),\n",
       " RelationRecord(items=frozenset({'butter', 'curd'}), support=0.00510204081632653, ordered_statistics=[OrderedStatistic(items_base=frozenset({'butter'}), items_add=frozenset({'curd'}), confidence=1.0, lift=49.00000000000001), OrderedStatistic(items_base=frozenset({'curd'}), items_add=frozenset({'butter'}), confidence=0.25, lift=49.00000000000001)]),\n",
       " RelationRecord(items=frozenset({'butter', 'domestic eggs'}), support=0.00510204081632653, ordered_statistics=[OrderedStatistic(items_base=frozenset({'butter'}), items_add=frozenset({'domestic eggs'}), confidence=1.0, lift=49.00000000000001), OrderedStatistic(items_base=frozenset({'domestic eggs'}), items_add=frozenset({'butter'}), confidence=0.25, lift=49.00000000000001)]),\n",
       " RelationRecord(items=frozenset({'butter', 'other vegetables'}), support=0.00510204081632653, ordered_statistics=[OrderedStatistic(items_base=frozenset({'butter'}), items_add=frozenset({'other vegetables'}), confidence=1.0, lift=14.0), OrderedStatistic(items_base=frozenset({'other vegetables'}), items_add=frozenset({'butter'}), confidence=0.07142857142857142, lift=14.0)]),\n",
       " RelationRecord(items=frozenset({'butter', 'yogurt'}), support=0.00510204081632653, ordered_statistics=[OrderedStatistic(items_base=frozenset({'butter'}), items_add=frozenset({'yogurt'}), confidence=1.0, lift=65.33333333333333), OrderedStatistic(items_base=frozenset({'yogurt'}), items_add=frozenset({'butter'}), confidence=0.3333333333333333, lift=65.33333333333333)]),\n",
       " RelationRecord(items=frozenset({'butter milk', 'frankfurter'}), support=0.00510204081632653, ordered_statistics=[OrderedStatistic(items_base=frozenset({'butter milk'}), items_add=frozenset({'frankfurter'}), confidence=0.3333333333333333, lift=5.444444444444445), OrderedStatistic(items_base=frozenset({'frankfurter'}), items_add=frozenset({'butter milk'}), confidence=0.08333333333333333, lift=5.444444444444445)]),\n",
       " RelationRecord(items=frozenset({'butter milk', 'soda'}), support=0.00510204081632653, ordered_statistics=[OrderedStatistic(items_base=frozenset({'butter milk'}), items_add=frozenset({'soda'}), confidence=0.3333333333333333, lift=9.333333333333334), OrderedStatistic(items_base=frozenset({'soda'}), items_add=frozenset({'butter milk'}), confidence=0.14285714285714285, lift=9.333333333333332)]),\n",
       " RelationRecord(items=frozenset({'candy', 'other vegetables'}), support=0.00510204081632653, ordered_statistics=[OrderedStatistic(items_base=frozenset({'candy'}), items_add=frozenset({'other vegetables'}), confidence=1.0, lift=14.0), OrderedStatistic(items_base=frozenset({'other vegetables'}), items_add=frozenset({'candy'}), confidence=0.07142857142857142, lift=14.0)]),\n",
       " RelationRecord(items=frozenset({'pork', 'candy'}), support=0.00510204081632653, ordered_statistics=[OrderedStatistic(items_base=frozenset({'candy'}), items_add=frozenset({'pork'}), confidence=1.0, lift=65.33333333333333), OrderedStatistic(items_base=frozenset({'pork'}), items_add=frozenset({'candy'}), confidence=0.3333333333333333, lift=65.33333333333333)]),\n",
       " RelationRecord(items=frozenset({'rolls/buns', 'candy'}), support=0.00510204081632653, ordered_statistics=[OrderedStatistic(items_base=frozenset({'candy'}), items_add=frozenset({'rolls/buns'}), confidence=1.0, lift=13.066666666666666), OrderedStatistic(items_base=frozenset({'rolls/buns'}), items_add=frozenset({'candy'}), confidence=0.06666666666666667, lift=13.066666666666668)]),\n",
       " RelationRecord(items=frozenset({'specialty bar', 'candy'}), support=0.00510204081632653, ordered_statistics=[OrderedStatistic(items_base=frozenset({'candy'}), items_add=frozenset({'specialty bar'}), confidence=1.0, lift=65.33333333333333), OrderedStatistic(items_base=frozenset({'specialty bar'}), items_add=frozenset({'candy'}), confidence=0.3333333333333333, lift=65.33333333333333)]),\n",
       " RelationRecord(items=frozenset({'candy', 'whole milk'}), support=0.00510204081632653, ordered_statistics=[OrderedStatistic(items_base=frozenset({'candy'}), items_add=frozenset({'whole milk'}), confidence=1.0, lift=9.799999999999999)]),\n",
       " RelationRecord(items=frozenset({'curd', 'canned beer'}), support=0.00510204081632653, ordered_statistics=[OrderedStatistic(items_base=frozenset({'canned beer'}), items_add=frozenset({'curd'}), confidence=0.16666666666666666, lift=8.166666666666666), OrderedStatistic(items_base=frozenset({'curd'}), items_add=frozenset({'canned beer'}), confidence=0.25, lift=8.166666666666666)]),\n",
       " RelationRecord(items=frozenset({'domestic eggs', 'canned beer'}), support=0.00510204081632653, ordered_statistics=[OrderedStatistic(items_base=frozenset({'canned beer'}), items_add=frozenset({'domestic eggs'}), confidence=0.16666666666666666, lift=8.166666666666666), OrderedStatistic(items_base=frozenset({'domestic eggs'}), items_add=frozenset({'canned beer'}), confidence=0.25, lift=8.166666666666666)]),\n",
       " RelationRecord(items=frozenset({'canned beer', 'ham'}), support=0.00510204081632653, ordered_statistics=[OrderedStatistic(items_base=frozenset({'canned beer'}), items_add=frozenset({'ham'}), confidence=0.16666666666666666, lift=8.166666666666666), OrderedStatistic(items_base=frozenset({'ham'}), items_add=frozenset({'canned beer'}), confidence=0.25, lift=8.166666666666666)]),\n",
       " RelationRecord(items=frozenset({'other vegetables', 'canned beer'}), support=0.01020408163265306, ordered_statistics=[OrderedStatistic(items_base=frozenset({'canned beer'}), items_add=frozenset({'other vegetables'}), confidence=0.3333333333333333, lift=4.666666666666667), OrderedStatistic(items_base=frozenset({'other vegetables'}), items_add=frozenset({'canned beer'}), confidence=0.14285714285714285, lift=4.666666666666666)]),\n",
       " RelationRecord(items=frozenset({'canned beer', 'yogurt'}), support=0.01020408163265306, ordered_statistics=[OrderedStatistic(items_base=frozenset({'canned beer'}), items_add=frozenset({'yogurt'}), confidence=0.3333333333333333, lift=21.77777777777778), OrderedStatistic(items_base=frozenset({'yogurt'}), items_add=frozenset({'canned beer'}), confidence=0.6666666666666666, lift=21.77777777777778)]),\n",
       " RelationRecord(items=frozenset({'chicken', 'newspapers'}), support=0.00510204081632653, ordered_statistics=[OrderedStatistic(items_base=frozenset({'chicken'}), items_add=frozenset({'newspapers'}), confidence=0.5, lift=32.666666666666664), OrderedStatistic(items_base=frozenset({'newspapers'}), items_add=frozenset({'chicken'}), confidence=0.3333333333333333, lift=32.666666666666664)]),\n",
       " RelationRecord(items=frozenset({'chocolate marshmallow', 'chocolate'}), support=0.00510204081632653, ordered_statistics=[OrderedStatistic(items_base=frozenset({'chocolate'}), items_add=frozenset({'chocolate marshmallow'}), confidence=0.19999999999999998, lift=39.2), OrderedStatistic(items_base=frozenset({'chocolate marshmallow'}), items_add=frozenset({'chocolate'}), confidence=1.0, lift=39.199999999999996)]),\n",
       " RelationRecord(items=frozenset({'chocolate', 'curd'}), support=0.00510204081632653, ordered_statistics=[OrderedStatistic(items_base=frozenset({'chocolate'}), items_add=frozenset({'curd'}), confidence=0.19999999999999998, lift=9.8), OrderedStatistic(items_base=frozenset({'curd'}), items_add=frozenset({'chocolate'}), confidence=0.25, lift=9.799999999999999)]),\n",
       " RelationRecord(items=frozenset({'frankfurter', 'chocolate'}), support=0.00510204081632653, ordered_statistics=[OrderedStatistic(items_base=frozenset({'chocolate'}), items_add=frozenset({'frankfurter'}), confidence=0.19999999999999998, lift=3.2666666666666666), OrderedStatistic(items_base=frozenset({'frankfurter'}), items_add=frozenset({'chocolate'}), confidence=0.08333333333333333, lift=3.2666666666666666)]),\n",
       " RelationRecord(items=frozenset({'processed cheese', 'chocolate'}), support=0.00510204081632653, ordered_statistics=[OrderedStatistic(items_base=frozenset({'chocolate'}), items_add=frozenset({'processed cheese'}), confidence=0.19999999999999998, lift=39.2), OrderedStatistic(items_base=frozenset({'processed cheese'}), items_add=frozenset({'chocolate'}), confidence=1.0, lift=39.199999999999996)]),\n",
       " RelationRecord(items=frozenset({'snack products', 'chocolate'}), support=0.00510204081632653, ordered_statistics=[OrderedStatistic(items_base=frozenset({'chocolate'}), items_add=frozenset({'snack products'}), confidence=0.19999999999999998, lift=39.2), OrderedStatistic(items_base=frozenset({'snack products'}), items_add=frozenset({'chocolate'}), confidence=1.0, lift=39.199999999999996)]),\n",
       " RelationRecord(items=frozenset({'chocolate', 'tropical fruit'}), support=0.00510204081632653, ordered_statistics=[OrderedStatistic(items_base=frozenset({'chocolate'}), items_add=frozenset({'tropical fruit'}), confidence=0.19999999999999998, lift=3.5636363636363635), OrderedStatistic(items_base=frozenset({'tropical fruit'}), items_add=frozenset({'chocolate'}), confidence=0.0909090909090909, lift=3.563636363636363)]),\n",
       " RelationRecord(items=frozenset({'chocolate marshmallow', 'whole milk'}), support=0.00510204081632653, ordered_statistics=[OrderedStatistic(items_base=frozenset({'chocolate marshmallow'}), items_add=frozenset({'whole milk'}), confidence=1.0, lift=9.799999999999999)]),\n",
       " RelationRecord(items=frozenset({'fruit/vegetable juice', 'citrus fruit'}), support=0.00510204081632653, ordered_statistics=[OrderedStatistic(items_base=frozenset({'citrus fruit'}), items_add=frozenset({'fruit/vegetable juice'}), confidence=0.125, lift=4.083333333333333), OrderedStatistic(items_base=frozenset({'fruit/vegetable juice'}), items_add=frozenset({'citrus fruit'}), confidence=0.16666666666666666, lift=4.083333333333333)]),\n",
       " RelationRecord(items=frozenset({'waffles', 'citrus fruit'}), support=0.00510204081632653, ordered_statistics=[OrderedStatistic(items_base=frozenset({'citrus fruit'}), items_add=frozenset({'waffles'}), confidence=0.125, lift=8.166666666666666), OrderedStatistic(items_base=frozenset({'waffles'}), items_add=frozenset({'citrus fruit'}), confidence=0.3333333333333333, lift=8.166666666666666)]),\n",
       " RelationRecord(items=frozenset({'other vegetables', 'coffee'}), support=0.00510204081632653, ordered_statistics=[OrderedStatistic(items_base=frozenset({'coffee'}), items_add=frozenset({'other vegetables'}), confidence=0.25, lift=3.5), OrderedStatistic(items_base=frozenset({'other vegetables'}), items_add=frozenset({'coffee'}), confidence=0.07142857142857142, lift=3.5)]),\n",
       " RelationRecord(items=frozenset({'curd', 'domestic eggs'}), support=0.00510204081632653, ordered_statistics=[OrderedStatistic(items_base=frozenset({'curd'}), items_add=frozenset({'domestic eggs'}), confidence=0.25, lift=12.250000000000002), OrderedStatistic(items_base=frozenset({'domestic eggs'}), items_add=frozenset({'curd'}), confidence=0.25, lift=12.250000000000002)]),\n",
       " RelationRecord(items=frozenset({'curd', 'other vegetables'}), support=0.00510204081632653, ordered_statistics=[OrderedStatistic(items_base=frozenset({'curd'}), items_add=frozenset({'other vegetables'}), confidence=0.25, lift=3.5), OrderedStatistic(items_base=frozenset({'other vegetables'}), items_add=frozenset({'curd'}), confidence=0.07142857142857142, lift=3.5)]),\n",
       " RelationRecord(items=frozenset({'curd', 'yogurt'}), support=0.00510204081632653, ordered_statistics=[OrderedStatistic(items_base=frozenset({'curd'}), items_add=frozenset({'yogurt'}), confidence=0.25, lift=16.333333333333332), OrderedStatistic(items_base=frozenset({'yogurt'}), items_add=frozenset({'curd'}), confidence=0.3333333333333333, lift=16.333333333333332)]),\n",
       " RelationRecord(items=frozenset({'curd cheese', 'newspapers'}), support=0.00510204081632653, ordered_statistics=[OrderedStatistic(items_base=frozenset({'curd cheese'}), items_add=frozenset({'newspapers'}), confidence=0.5, lift=32.666666666666664), OrderedStatistic(items_base=frozenset({'newspapers'}), items_add=frozenset({'curd cheese'}), confidence=0.3333333333333333, lift=32.666666666666664)]),\n",
       " RelationRecord(items=frozenset({'curd cheese', 'packaged fruit/vegetables'}), support=0.00510204081632653, ordered_statistics=[OrderedStatistic(items_base=frozenset({'curd cheese'}), items_add=frozenset({'packaged fruit/vegetables'}), confidence=0.5, lift=24.500000000000004), OrderedStatistic(items_base=frozenset({'packaged fruit/vegetables'}), items_add=frozenset({'curd cheese'}), confidence=0.25, lift=24.500000000000004)]),\n",
       " RelationRecord(items=frozenset({'curd cheese', 'soda'}), support=0.00510204081632653, ordered_statistics=[OrderedStatistic(items_base=frozenset({'curd cheese'}), items_add=frozenset({'soda'}), confidence=0.5, lift=14.0), OrderedStatistic(items_base=frozenset({'soda'}), items_add=frozenset({'curd cheese'}), confidence=0.14285714285714285, lift=14.0)]),\n",
       " RelationRecord(items=frozenset({'curd cheese', 'whole milk'}), support=0.00510204081632653, ordered_statistics=[OrderedStatistic(items_base=frozenset({'curd cheese'}), items_add=frozenset({'whole milk'}), confidence=0.5, lift=4.8999999999999995)]),\n",
       " RelationRecord(items=frozenset({'detergent', 'flour'}), support=0.00510204081632653, ordered_statistics=[OrderedStatistic(items_base=frozenset({'detergent'}), items_add=frozenset({'flour'}), confidence=0.5, lift=98.00000000000001), OrderedStatistic(items_base=frozenset({'flour'}), items_add=frozenset({'detergent'}), confidence=1.0, lift=98.00000000000001)]),\n",
       " RelationRecord(items=frozenset({'detergent', 'yogurt'}), support=0.00510204081632653, ordered_statistics=[OrderedStatistic(items_base=frozenset({'detergent'}), items_add=frozenset({'yogurt'}), confidence=0.5, lift=32.666666666666664), OrderedStatistic(items_base=frozenset({'yogurt'}), items_add=frozenset({'detergent'}), confidence=0.3333333333333333, lift=32.666666666666664)]),\n",
       " RelationRecord(items=frozenset({'dishes', 'tropical fruit'}), support=0.00510204081632653, ordered_statistics=[OrderedStatistic(items_base=frozenset({'dishes'}), items_add=frozenset({'tropical fruit'}), confidence=1.0, lift=17.818181818181817), OrderedStatistic(items_base=frozenset({'tropical fruit'}), items_add=frozenset({'dishes'}), confidence=0.0909090909090909, lift=17.818181818181817)]),\n",
       " RelationRecord(items=frozenset({'other vegetables', 'domestic eggs'}), support=0.00510204081632653, ordered_statistics=[OrderedStatistic(items_base=frozenset({'domestic eggs'}), items_add=frozenset({'other vegetables'}), confidence=0.25, lift=3.5), OrderedStatistic(items_base=frozenset({'other vegetables'}), items_add=frozenset({'domestic eggs'}), confidence=0.07142857142857142, lift=3.5)]),\n",
       " RelationRecord(items=frozenset({'domestic eggs', 'yogurt'}), support=0.00510204081632653, ordered_statistics=[OrderedStatistic(items_base=frozenset({'domestic eggs'}), items_add=frozenset({'yogurt'}), confidence=0.25, lift=16.333333333333332), OrderedStatistic(items_base=frozenset({'yogurt'}), items_add=frozenset({'domestic eggs'}), confidence=0.3333333333333333, lift=16.333333333333332)]),\n",
       " RelationRecord(items=frozenset({'flour', 'yogurt'}), support=0.00510204081632653, ordered_statistics=[OrderedStatistic(items_base=frozenset({'flour'}), items_add=frozenset({'yogurt'}), confidence=1.0, lift=65.33333333333333), OrderedStatistic(items_base=frozenset({'yogurt'}), items_add=frozenset({'flour'}), confidence=0.3333333333333333, lift=65.33333333333333)]),\n",
       " RelationRecord(items=frozenset({'frankfurter', 'processed cheese'}), support=0.00510204081632653, ordered_statistics=[OrderedStatistic(items_base=frozenset({'frankfurter'}), items_add=frozenset({'processed cheese'}), confidence=0.08333333333333333, lift=16.333333333333332), OrderedStatistic(items_base=frozenset({'processed cheese'}), items_add=frozenset({'frankfurter'}), confidence=1.0, lift=16.333333333333332)]),\n",
       " RelationRecord(items=frozenset({'snack products', 'frankfurter'}), support=0.00510204081632653, ordered_statistics=[OrderedStatistic(items_base=frozenset({'frankfurter'}), items_add=frozenset({'snack products'}), confidence=0.08333333333333333, lift=16.333333333333332), OrderedStatistic(items_base=frozenset({'snack products'}), items_add=frozenset({'frankfurter'}), confidence=1.0, lift=16.333333333333332)]),\n",
       " RelationRecord(items=frozenset({'frozen meals', 'oil'}), support=0.00510204081632653, ordered_statistics=[OrderedStatistic(items_base=frozenset({'frozen meals'}), items_add=frozenset({'oil'}), confidence=1.0, lift=49.00000000000001), OrderedStatistic(items_base=frozenset({'oil'}), items_add=frozenset({'frozen meals'}), confidence=0.25, lift=49.00000000000001)]),\n",
       " RelationRecord(items=frozenset({'frozen meals', 'other vegetables'}), support=0.00510204081632653, ordered_statistics=[OrderedStatistic(items_base=frozenset({'frozen meals'}), items_add=frozenset({'other vegetables'}), confidence=1.0, lift=14.0), OrderedStatistic(items_base=frozenset({'other vegetables'}), items_add=frozenset({'frozen meals'}), confidence=0.07142857142857142, lift=14.0)]),\n",
       " RelationRecord(items=frozenset({'frozen potato products', 'liquor (appetizer)'}), support=0.00510204081632653, ordered_statistics=[OrderedStatistic(items_base=frozenset({'frozen potato products'}), items_add=frozenset({'liquor (appetizer)'}), confidence=0.5, lift=98.00000000000001), OrderedStatistic(items_base=frozenset({'liquor (appetizer)'}), items_add=frozenset({'frozen potato products'}), confidence=1.0, lift=98.00000000000001)]),\n",
       " RelationRecord(items=frozenset({'other vegetables', 'ham'}), support=0.00510204081632653, ordered_statistics=[OrderedStatistic(items_base=frozenset({'ham'}), items_add=frozenset({'other vegetables'}), confidence=0.25, lift=3.5), OrderedStatistic(items_base=frozenset({'other vegetables'}), items_add=frozenset({'ham'}), confidence=0.07142857142857142, lift=3.5)]),\n",
       " RelationRecord(items=frozenset({'popcorn', 'ham'}), support=0.00510204081632653, ordered_statistics=[OrderedStatistic(items_base=frozenset({'ham'}), items_add=frozenset({'popcorn'}), confidence=0.25, lift=24.500000000000004), OrderedStatistic(items_base=frozenset({'popcorn'}), items_add=frozenset({'ham'}), confidence=0.5, lift=24.500000000000004)]),\n",
       " RelationRecord(items=frozenset({'sausage', 'ham'}), support=0.00510204081632653, ordered_statistics=[OrderedStatistic(items_base=frozenset({'ham'}), items_add=frozenset({'sausage'}), confidence=0.25, lift=3.769230769230769), OrderedStatistic(items_base=frozenset({'sausage'}), items_add=frozenset({'ham'}), confidence=0.07692307692307691, lift=3.769230769230769)]),\n",
       " RelationRecord(items=frozenset({'ham', 'tropical fruit'}), support=0.00510204081632653, ordered_statistics=[OrderedStatistic(items_base=frozenset({'ham'}), items_add=frozenset({'tropical fruit'}), confidence=0.25, lift=4.454545454545454), OrderedStatistic(items_base=frozenset({'tropical fruit'}), items_add=frozenset({'ham'}), confidence=0.0909090909090909, lift=4.454545454545454)]),\n",
       " RelationRecord(items=frozenset({'ham', 'yogurt'}), support=0.00510204081632653, ordered_statistics=[OrderedStatistic(items_base=frozenset({'ham'}), items_add=frozenset({'yogurt'}), confidence=0.25, lift=16.333333333333332), OrderedStatistic(items_base=frozenset({'yogurt'}), items_add=frozenset({'ham'}), confidence=0.3333333333333333, lift=16.333333333333332)]),\n",
       " RelationRecord(items=frozenset({'misc. beverages', 'pot plants'}), support=0.00510204081632653, ordered_statistics=[OrderedStatistic(items_base=frozenset({'misc. beverages'}), items_add=frozenset({'pot plants'}), confidence=0.3333333333333333, lift=65.33333333333333), OrderedStatistic(items_base=frozenset({'pot plants'}), items_add=frozenset({'misc. beverages'}), confidence=1.0, lift=65.33333333333333)]),\n",
       " RelationRecord(items=frozenset({'misc. beverages', 'sausage'}), support=0.00510204081632653, ordered_statistics=[OrderedStatistic(items_base=frozenset({'misc. beverages'}), items_add=frozenset({'sausage'}), confidence=0.3333333333333333, lift=5.025641025641025), OrderedStatistic(items_base=frozenset({'sausage'}), items_add=frozenset({'misc. beverages'}), confidence=0.07692307692307691, lift=5.0256410256410255)]),\n",
       " RelationRecord(items=frozenset({'misc. beverages', 'tropical fruit'}), support=0.00510204081632653, ordered_statistics=[OrderedStatistic(items_base=frozenset({'misc. beverages'}), items_add=frozenset({'tropical fruit'}), confidence=0.3333333333333333, lift=5.9393939393939394), OrderedStatistic(items_base=frozenset({'tropical fruit'}), items_add=frozenset({'misc. beverages'}), confidence=0.0909090909090909, lift=5.939393939393939)]),\n",
       " RelationRecord(items=frozenset({'packaged fruit/vegetables', 'newspapers'}), support=0.00510204081632653, ordered_statistics=[OrderedStatistic(items_base=frozenset({'newspapers'}), items_add=frozenset({'packaged fruit/vegetables'}), confidence=0.3333333333333333, lift=16.333333333333332), OrderedStatistic(items_base=frozenset({'packaged fruit/vegetables'}), items_add=frozenset({'newspapers'}), confidence=0.25, lift=16.333333333333332)]),\n",
       " RelationRecord(items=frozenset({'soda', 'newspapers'}), support=0.00510204081632653, ordered_statistics=[OrderedStatistic(items_base=frozenset({'newspapers'}), items_add=frozenset({'soda'}), confidence=0.3333333333333333, lift=9.333333333333334), OrderedStatistic(items_base=frozenset({'soda'}), items_add=frozenset({'newspapers'}), confidence=0.14285714285714285, lift=9.333333333333332)]),\n",
       " RelationRecord(items=frozenset({'whole milk', 'newspapers'}), support=0.00510204081632653, ordered_statistics=[OrderedStatistic(items_base=frozenset({'newspapers'}), items_add=frozenset({'whole milk'}), confidence=0.3333333333333333, lift=3.2666666666666666)]),\n",
       " RelationRecord(items=frozenset({'other vegetables', 'oil'}), support=0.00510204081632653, ordered_statistics=[OrderedStatistic(items_base=frozenset({'oil'}), items_add=frozenset({'other vegetables'}), confidence=0.25, lift=3.5), OrderedStatistic(items_base=frozenset({'other vegetables'}), items_add=frozenset({'oil'}), confidence=0.07142857142857142, lift=3.5)]),\n",
       " RelationRecord(items=frozenset({'pork', 'other vegetables'}), support=0.00510204081632653, ordered_statistics=[OrderedStatistic(items_base=frozenset({'other vegetables'}), items_add=frozenset({'pork'}), confidence=0.07142857142857142, lift=4.666666666666666), OrderedStatistic(items_base=frozenset({'pork'}), items_add=frozenset({'other vegetables'}), confidence=0.3333333333333333, lift=4.666666666666667)]),\n",
       " RelationRecord(items=frozenset({'specialty bar', 'other vegetables'}), support=0.00510204081632653, ordered_statistics=[OrderedStatistic(items_base=frozenset({'other vegetables'}), items_add=frozenset({'specialty bar'}), confidence=0.07142857142857142, lift=4.666666666666666), OrderedStatistic(items_base=frozenset({'specialty bar'}), items_add=frozenset({'other vegetables'}), confidence=0.3333333333333333, lift=4.666666666666667)]),\n",
       " RelationRecord(items=frozenset({'other vegetables', 'yogurt'}), support=0.01020408163265306, ordered_statistics=[OrderedStatistic(items_base=frozenset({'other vegetables'}), items_add=frozenset({'yogurt'}), confidence=0.14285714285714285, lift=9.333333333333332), OrderedStatistic(items_base=frozenset({'yogurt'}), items_add=frozenset({'other vegetables'}), confidence=0.6666666666666666, lift=9.333333333333334)]),\n",
       " RelationRecord(items=frozenset({'packaged fruit/vegetables', 'rolls/buns'}), support=0.00510204081632653, ordered_statistics=[OrderedStatistic(items_base=frozenset({'packaged fruit/vegetables'}), items_add=frozenset({'rolls/buns'}), confidence=0.25, lift=3.2666666666666666), OrderedStatistic(items_base=frozenset({'rolls/buns'}), items_add=frozenset({'packaged fruit/vegetables'}), confidence=0.06666666666666667, lift=3.266666666666667)]),\n",
       " RelationRecord(items=frozenset({'packaged fruit/vegetables', 'soda'}), support=0.01020408163265306, ordered_statistics=[OrderedStatistic(items_base=frozenset({'packaged fruit/vegetables'}), items_add=frozenset({'soda'}), confidence=0.5, lift=14.0), OrderedStatistic(items_base=frozenset({'soda'}), items_add=frozenset({'packaged fruit/vegetables'}), confidence=0.2857142857142857, lift=14.0)]),\n",
       " RelationRecord(items=frozenset({'packaged fruit/vegetables', 'whole milk'}), support=0.01020408163265306, ordered_statistics=[OrderedStatistic(items_base=frozenset({'packaged fruit/vegetables'}), items_add=frozenset({'whole milk'}), confidence=0.5, lift=4.8999999999999995), OrderedStatistic(items_base=frozenset({'whole milk'}), items_add=frozenset({'packaged fruit/vegetables'}), confidence=0.09999999999999999, lift=4.9)]),\n",
       " RelationRecord(items=frozenset({'popcorn', 'sausage'}), support=0.00510204081632653, ordered_statistics=[OrderedStatistic(items_base=frozenset({'popcorn'}), items_add=frozenset({'sausage'}), confidence=0.5, lift=7.538461538461538), OrderedStatistic(items_base=frozenset({'sausage'}), items_add=frozenset({'popcorn'}), confidence=0.07692307692307691, lift=7.538461538461538)]),\n",
       " RelationRecord(items=frozenset({'popcorn', 'tropical fruit'}), support=0.00510204081632653, ordered_statistics=[OrderedStatistic(items_base=frozenset({'popcorn'}), items_add=frozenset({'tropical fruit'}), confidence=0.5, lift=8.909090909090908), OrderedStatistic(items_base=frozenset({'tropical fruit'}), items_add=frozenset({'popcorn'}), confidence=0.0909090909090909, lift=8.909090909090908)]),\n",
       " RelationRecord(items=frozenset({'pork', 'rolls/buns'}), support=0.00510204081632653, ordered_statistics=[OrderedStatistic(items_base=frozenset({'pork'}), items_add=frozenset({'rolls/buns'}), confidence=0.3333333333333333, lift=4.355555555555555), OrderedStatistic(items_base=frozenset({'rolls/buns'}), items_add=frozenset({'pork'}), confidence=0.06666666666666667, lift=4.355555555555555)]),\n",
       " RelationRecord(items=frozenset({'pork', 'specialty bar'}), support=0.00510204081632653, ordered_statistics=[OrderedStatistic(items_base=frozenset({'pork'}), items_add=frozenset({'specialty bar'}), confidence=0.3333333333333333, lift=21.77777777777778), OrderedStatistic(items_base=frozenset({'specialty bar'}), items_add=frozenset({'pork'}), confidence=0.3333333333333333, lift=21.77777777777778)]),\n",
       " RelationRecord(items=frozenset({'pork', 'whole milk'}), support=0.00510204081632653, ordered_statistics=[OrderedStatistic(items_base=frozenset({'pork'}), items_add=frozenset({'whole milk'}), confidence=0.3333333333333333, lift=3.2666666666666666)]),\n",
       " RelationRecord(items=frozenset({'sausage', 'pot plants'}), support=0.00510204081632653, ordered_statistics=[OrderedStatistic(items_base=frozenset({'pot plants'}), items_add=frozenset({'sausage'}), confidence=1.0, lift=15.076923076923077), OrderedStatistic(items_base=frozenset({'sausage'}), items_add=frozenset({'pot plants'}), confidence=0.07692307692307691, lift=15.076923076923077)]),\n",
       " RelationRecord(items=frozenset({'pot plants', 'tropical fruit'}), support=0.00510204081632653, ordered_statistics=[OrderedStatistic(items_base=frozenset({'pot plants'}), items_add=frozenset({'tropical fruit'}), confidence=1.0, lift=17.818181818181817), OrderedStatistic(items_base=frozenset({'tropical fruit'}), items_add=frozenset({'pot plants'}), confidence=0.0909090909090909, lift=17.818181818181817)]),\n",
       " RelationRecord(items=frozenset({'snack products', 'processed cheese'}), support=0.00510204081632653, ordered_statistics=[OrderedStatistic(items_base=frozenset({'processed cheese'}), items_add=frozenset({'snack products'}), confidence=1.0, lift=196.00000000000003), OrderedStatistic(items_base=frozenset({'snack products'}), items_add=frozenset({'processed cheese'}), confidence=1.0, lift=196.00000000000003)]),\n",
       " RelationRecord(items=frozenset({'processed cheese', 'tropical fruit'}), support=0.00510204081632653, ordered_statistics=[OrderedStatistic(items_base=frozenset({'processed cheese'}), items_add=frozenset({'tropical fruit'}), confidence=1.0, lift=17.818181818181817), OrderedStatistic(items_base=frozenset({'tropical fruit'}), items_add=frozenset({'processed cheese'}), confidence=0.0909090909090909, lift=17.818181818181817)]),\n",
       " RelationRecord(items=frozenset({'specialty bar', 'rolls/buns'}), support=0.00510204081632653, ordered_statistics=[OrderedStatistic(items_base=frozenset({'rolls/buns'}), items_add=frozenset({'specialty bar'}), confidence=0.06666666666666667, lift=4.355555555555555), OrderedStatistic(items_base=frozenset({'specialty bar'}), items_add=frozenset({'rolls/buns'}), confidence=0.3333333333333333, lift=4.355555555555555)]),\n",
       " RelationRecord(items=frozenset({'rolls/buns', 'sugar'}), support=0.00510204081632653, ordered_statistics=[OrderedStatistic(items_base=frozenset({'rolls/buns'}), items_add=frozenset({'sugar'}), confidence=0.06666666666666667, lift=3.266666666666667), OrderedStatistic(items_base=frozenset({'sugar'}), items_add=frozenset({'rolls/buns'}), confidence=0.25, lift=3.2666666666666666)]),\n",
       " RelationRecord(items=frozenset({'waffles', 'rolls/buns'}), support=0.00510204081632653, ordered_statistics=[OrderedStatistic(items_base=frozenset({'rolls/buns'}), items_add=frozenset({'waffles'}), confidence=0.06666666666666667, lift=4.355555555555555), OrderedStatistic(items_base=frozenset({'waffles'}), items_add=frozenset({'rolls/buns'}), confidence=0.3333333333333333, lift=4.355555555555555)]),\n",
       " RelationRecord(items=frozenset({'shopping bags', 'whole milk'}), support=0.00510204081632653, ordered_statistics=[OrderedStatistic(items_base=frozenset({'shopping bags'}), items_add=frozenset({'whole milk'}), confidence=0.3333333333333333, lift=3.2666666666666666)]),\n",
       " RelationRecord(items=frozenset({'snack products', 'tropical fruit'}), support=0.00510204081632653, ordered_statistics=[OrderedStatistic(items_base=frozenset({'snack products'}), items_add=frozenset({'tropical fruit'}), confidence=1.0, lift=17.818181818181817), OrderedStatistic(items_base=frozenset({'tropical fruit'}), items_add=frozenset({'snack products'}), confidence=0.0909090909090909, lift=17.818181818181817)]),\n",
       " RelationRecord(items=frozenset({'specialty bar', 'whole milk'}), support=0.00510204081632653, ordered_statistics=[OrderedStatistic(items_base=frozenset({'specialty bar'}), items_add=frozenset({'whole milk'}), confidence=0.3333333333333333, lift=3.2666666666666666)]),\n",
       " RelationRecord(items=frozenset({'waffles', 'sugar'}), support=0.00510204081632653, ordered_statistics=[OrderedStatistic(items_base=frozenset({'sugar'}), items_add=frozenset({'waffles'}), confidence=0.25, lift=16.333333333333332), OrderedStatistic(items_base=frozenset({'waffles'}), items_add=frozenset({'sugar'}), confidence=0.3333333333333333, lift=16.333333333333332)]),\n",
       " RelationRecord(items=frozenset({'waffles', 'tropical fruit'}), support=0.00510204081632653, ordered_statistics=[OrderedStatistic(items_base=frozenset({'tropical fruit'}), items_add=frozenset({'waffles'}), confidence=0.0909090909090909, lift=5.939393939393939), OrderedStatistic(items_base=frozenset({'waffles'}), items_add=frozenset({'tropical fruit'}), confidence=0.3333333333333333, lift=5.9393939393939394)])]"
      ]
     },
     "execution_count": 21,
     "metadata": {},
     "output_type": "execute_result"
    }
   ],
   "source": [
    "results"
   ]
  },
  {
   "cell_type": "code",
   "execution_count": 22,
   "id": "5b48483f",
   "metadata": {},
   "outputs": [],
   "source": [
    "def inspect(results):\n",
    "    lhs         = [tuple(result[2][0][0])[0] for result in results]\n",
    "    rhs         = [tuple(result[2][0][1])[0] for result in results]\n",
    "    supports    = [result[1] for result in results]\n",
    "    confidences = [result[2][0][2] for result in results]\n",
    "    lifts       = [result[2][0][3] for result in results]\n",
    "    return list(zip(lhs, rhs, supports, confidences, lifts))"
   ]
  },
  {
   "cell_type": "code",
   "execution_count": 23,
   "id": "d43bc731",
   "metadata": {},
   "outputs": [],
   "source": [
    "resultsinDataFrame = pd.DataFrame(inspect(results), columns = ['Left Hand Side', 'Right Hand Side', 'Support', 'Confidence', 'Lift'])"
   ]
  },
  {
   "cell_type": "code",
   "execution_count": 24,
   "id": "b59ead5f",
   "metadata": {},
   "outputs": [
    {
     "data": {
      "text/html": [
       "<div>\n",
       "<style scoped>\n",
       "    .dataframe tbody tr th:only-of-type {\n",
       "        vertical-align: middle;\n",
       "    }\n",
       "\n",
       "    .dataframe tbody tr th {\n",
       "        vertical-align: top;\n",
       "    }\n",
       "\n",
       "    .dataframe thead th {\n",
       "        text-align: right;\n",
       "    }\n",
       "</style>\n",
       "<table border=\"1\" class=\"dataframe\">\n",
       "  <thead>\n",
       "    <tr style=\"text-align: right;\">\n",
       "      <th></th>\n",
       "      <th>Left Hand Side</th>\n",
       "      <th>Right Hand Side</th>\n",
       "      <th>Support</th>\n",
       "      <th>Confidence</th>\n",
       "      <th>Lift</th>\n",
       "    </tr>\n",
       "  </thead>\n",
       "  <tbody>\n",
       "    <tr>\n",
       "      <th>1</th>\n",
       "      <td>bathroom cleaner</td>\n",
       "      <td>liquor (appetizer)</td>\n",
       "      <td>0.005102</td>\n",
       "      <td>1.0</td>\n",
       "      <td>196.000000</td>\n",
       "    </tr>\n",
       "    <tr>\n",
       "      <th>97</th>\n",
       "      <td>processed cheese</td>\n",
       "      <td>snack products</td>\n",
       "      <td>0.005102</td>\n",
       "      <td>1.0</td>\n",
       "      <td>196.000000</td>\n",
       "    </tr>\n",
       "    <tr>\n",
       "      <th>0</th>\n",
       "      <td>bathroom cleaner</td>\n",
       "      <td>frozen potato products</td>\n",
       "      <td>0.005102</td>\n",
       "      <td>1.0</td>\n",
       "      <td>98.000000</td>\n",
       "    </tr>\n",
       "    <tr>\n",
       "      <th>18</th>\n",
       "      <td>brown bread</td>\n",
       "      <td>candy</td>\n",
       "      <td>0.005102</td>\n",
       "      <td>0.5</td>\n",
       "      <td>98.000000</td>\n",
       "    </tr>\n",
       "    <tr>\n",
       "      <th>19</th>\n",
       "      <td>brown bread</td>\n",
       "      <td>frozen meals</td>\n",
       "      <td>0.005102</td>\n",
       "      <td>0.5</td>\n",
       "      <td>98.000000</td>\n",
       "    </tr>\n",
       "    <tr>\n",
       "      <th>61</th>\n",
       "      <td>detergent</td>\n",
       "      <td>flour</td>\n",
       "      <td>0.005102</td>\n",
       "      <td>0.5</td>\n",
       "      <td>98.000000</td>\n",
       "    </tr>\n",
       "    <tr>\n",
       "      <th>71</th>\n",
       "      <td>frozen potato products</td>\n",
       "      <td>liquor (appetizer)</td>\n",
       "      <td>0.005102</td>\n",
       "      <td>0.5</td>\n",
       "      <td>98.000000</td>\n",
       "    </tr>\n",
       "    <tr>\n",
       "      <th>30</th>\n",
       "      <td>butter</td>\n",
       "      <td>yogurt</td>\n",
       "      <td>0.005102</td>\n",
       "      <td>1.0</td>\n",
       "      <td>65.333333</td>\n",
       "    </tr>\n",
       "    <tr>\n",
       "      <th>34</th>\n",
       "      <td>candy</td>\n",
       "      <td>pork</td>\n",
       "      <td>0.005102</td>\n",
       "      <td>1.0</td>\n",
       "      <td>65.333333</td>\n",
       "    </tr>\n",
       "    <tr>\n",
       "      <th>36</th>\n",
       "      <td>candy</td>\n",
       "      <td>specialty bar</td>\n",
       "      <td>0.005102</td>\n",
       "      <td>1.0</td>\n",
       "      <td>65.333333</td>\n",
       "    </tr>\n",
       "  </tbody>\n",
       "</table>\n",
       "</div>"
      ],
      "text/plain": [
       "            Left Hand Side         Right Hand Side   Support  Confidence  \\\n",
       "1         bathroom cleaner      liquor (appetizer)  0.005102         1.0   \n",
       "97        processed cheese          snack products  0.005102         1.0   \n",
       "0         bathroom cleaner  frozen potato products  0.005102         1.0   \n",
       "18             brown bread                   candy  0.005102         0.5   \n",
       "19             brown bread            frozen meals  0.005102         0.5   \n",
       "61               detergent                   flour  0.005102         0.5   \n",
       "71  frozen potato products      liquor (appetizer)  0.005102         0.5   \n",
       "30                  butter                  yogurt  0.005102         1.0   \n",
       "34                   candy                    pork  0.005102         1.0   \n",
       "36                   candy           specialty bar  0.005102         1.0   \n",
       "\n",
       "          Lift  \n",
       "1   196.000000  \n",
       "97  196.000000  \n",
       "0    98.000000  \n",
       "18   98.000000  \n",
       "19   98.000000  \n",
       "61   98.000000  \n",
       "71   98.000000  \n",
       "30   65.333333  \n",
       "34   65.333333  \n",
       "36   65.333333  "
      ]
     },
     "execution_count": 24,
     "metadata": {},
     "output_type": "execute_result"
    }
   ],
   "source": [
    "resultsinDataFrame.nlargest(n=10, columns=\"Lift\")"
   ]
  },
  {
   "cell_type": "code",
   "execution_count": 25,
   "id": "a9006b35",
   "metadata": {},
   "outputs": [
    {
     "data": {
      "image/png": "[encoded data removed]",
      "text/plain": [
       "<Figure size 432x288 with 1 Axes>"
      ]
     },
     "metadata": {
      "needs_background": "light"
     },
     "output_type": "display_data"
    }
   ],
   "source": [
    "sns.scatterplot(x = \"Support\", y = \"Lift\", data = resultsinDataFrame);\n",
    "sns.scatterplot(x = \"Lift\", y = \"Confidence\", data = resultsinDataFrame);"
   ]
  },
  {
   "cell_type": "code",
   "execution_count": null,
   "id": "70d2a549",
   "metadata": {},
   "outputs": [],
   "source": []
  }
 ],
 "metadata": {
  "kernelspec": {
   "display_name": "Python 3 (ipykernel)",
   "language": "python",
   "name": "python3"
  },
  "language_info": {
   "codemirror_mode": {
    "name": "ipython",
    "version": 3
   },
   "file_extension": ".py",
   "mimetype": "text/x-python",
   "name": "python",
   "nbconvert_exporter": "python",
   "pygments_lexer": "ipython3",
   "version": "3.9.13"
  }
 },
 "nbformat": 4,
 "nbformat_minor": 5
}
